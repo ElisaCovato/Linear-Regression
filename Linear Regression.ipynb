{
 "cells": [
  {
   "cell_type": "markdown",
   "metadata": {},
   "source": [
    "# Linear Regression"
   ]
  },
  {
   "cell_type": "markdown",
   "metadata": {},
   "source": [
    "### Intro\n",
    "\n",
    "This notebook contains a quick walkthrough on how to implement and plot a linear regression model using statsmodels and Matplot libraries.\n",
    "\n",
    "The notebook is divided into two parts: one to implement a **simple linear regression** model, and one for a **multiple linear regression** model with two predictors. In both cases, the same dataset is used and we implement the regression using the OLS function from [statsmodels](https://www.statsmodels.org/dev/generated/statsmodels.regression.linear_model.OLS.html), which fits a linear model using the _least squares approach_ (also called _Ordinary Least Squares_ ): this estimates the regression coefficients by  minimising the residual sum of squares (RSS).\n",
    "\n",
    "Throughtout the notebook we will use the _advertsing_ dataset from \"An Introduction To Statistical Learning\" by James et al, which consist of the advertising budgets (in thousands of US dollars) for three media (TV, radio and newspapers) of a fictional company and sales data for that company. The idea is to implement a linear regression model to predict sales data, first by using one predictor (TV - simple linear regression), and then by using two predictors (TV and newspapers - multiple linear regression).\n",
    "\n",
    "A .csv file of the dataset can be downloaded by clicking [here]( \n",
    "https://www.statlearning.com/s/Advertising.csv)."
   ]
  },
  {
   "cell_type": "markdown",
   "metadata": {},
   "source": [
    "### Libraries"
   ]
  },
  {
   "cell_type": "code",
   "execution_count": 1,
   "metadata": {},
   "outputs": [],
   "source": [
    "import pandas as pd\n",
    "import numpy as np\n",
    "\n",
    "import statsmodels.api as sm\n",
    "\n",
    "import matplotlib.pyplot as plt\n",
    "from mpl_toolkits.mplot3d import axes3d, Axes3D\n",
    "\n",
    "import warnings\n",
    "warnings.filterwarnings('ignore')\n",
    "\n",
    "\n",
    "%matplotlib inline"
   ]
  },
  {
   "cell_type": "markdown",
   "metadata": {},
   "source": [
    "### Data"
   ]
  },
  {
   "cell_type": "code",
   "execution_count": 2,
   "metadata": {},
   "outputs": [
    {
     "name": "stdout",
     "output_type": "stream",
     "text": [
      "Dataset Summary:\n",
      "<class 'pandas.core.frame.DataFrame'>\n",
      "RangeIndex: 200 entries, 0 to 199\n",
      "Data columns (total 4 columns):\n",
      "TV           200 non-null float64\n",
      "radio        200 non-null float64\n",
      "newspaper    200 non-null float64\n",
      "sales        200 non-null float64\n",
      "dtypes: float64(4)\n",
      "memory usage: 6.4 KB\n",
      "None\n",
      "\n",
      "\n",
      "Dataset stats:\n",
      "               TV       radio   newspaper       sales\n",
      "count  200.000000  200.000000  200.000000  200.000000\n",
      "mean   147.042500   23.264000   30.554000   14.022500\n",
      "std     85.854236   14.846809   21.778621    5.217457\n",
      "min      0.700000    0.000000    0.300000    1.600000\n",
      "25%     74.375000    9.975000   12.750000   10.375000\n",
      "50%    149.750000   22.900000   25.750000   12.900000\n",
      "75%    218.825000   36.525000   45.100000   17.400000\n",
      "max    296.400000   49.600000  114.000000   27.000000\n",
      "\n",
      "\n",
      "Dataset preview:\n",
      "      TV  radio  newspaper  sales\n",
      "0  230.1   37.8       69.2   22.1\n",
      "1   44.5   39.3       45.1   10.4\n",
      "2   17.2   45.9       69.3    9.3\n",
      "3  151.5   41.3       58.5   18.5\n",
      "4  180.8   10.8       58.4   12.9\n"
     ]
    }
   ],
   "source": [
    "# Let's download and look at the data\n",
    "\n",
    "advertising = pd.read_csv('https://www.statlearning.com/s/Advertising.csv', usecols=[1,2,3,4])\n",
    "\n",
    "print(\"Dataset Summary:\")\n",
    "print(advertising.info())\n",
    "\n",
    "print(\"\\n\")\n",
    "\n",
    "print(\"Dataset stats:\")\n",
    "print(advertising.describe())\n",
    "\n",
    "print(\"\\n\")\n",
    "\n",
    "print(\"Dataset preview:\")\n",
    "print(advertising.head())"
   ]
  },
  {
   "cell_type": "markdown",
   "metadata": {},
   "source": [
    "In what follows our task is going to predict **sales**:"
   ]
  },
  {
   "cell_type": "code",
   "execution_count": 3,
   "metadata": {},
   "outputs": [],
   "source": [
    "# Set the target Y\n",
    "\n",
    "Y = advertising['sales']"
   ]
  },
  {
   "cell_type": "markdown",
   "metadata": {},
   "source": [
    "### Simple Linear Regression"
   ]
  },
  {
   "cell_type": "markdown",
   "metadata": {},
   "source": [
    "In this part of the notebook we try to predict **sales** using **TV** budget as our predictor variable."
   ]
  },
  {
   "cell_type": "code",
   "execution_count": 4,
   "metadata": {},
   "outputs": [],
   "source": [
    "# Set our predictor variable X\n",
    "# and add a constant term so the model can fit an intercept\n",
    "\n",
    "X = advertising['TV']\n",
    "X_slr = sm.add_constant(X)"
   ]
  },
  {
   "cell_type": "code",
   "execution_count": 5,
   "metadata": {},
   "outputs": [],
   "source": [
    "# Fit a SLR to our X and Y\n",
    "\n",
    "slr = sm.OLS(Y, X_slr).fit()"
   ]
  },
  {
   "cell_type": "markdown",
   "metadata": {},
   "source": [
    "Let's summarise our regression fit:"
   ]
  },
  {
   "cell_type": "code",
   "execution_count": 6,
   "metadata": {},
   "outputs": [
    {
     "data": {
      "text/html": [
       "<table class=\"simpletable\">\n",
       "<tr>\n",
       "        <td>Model:</td>               <td>OLS</td>         <td>Adj. R-squared:</td>     <td>0.610</td>  \n",
       "</tr>\n",
       "<tr>\n",
       "  <td>Dependent Variable:</td>       <td>sales</td>             <td>AIC:</td>         <td>1042.0913</td>\n",
       "</tr>\n",
       "<tr>\n",
       "         <td>Date:</td>        <td>2022-07-21 17:58</td>        <td>BIC:</td>         <td>1048.6880</td>\n",
       "</tr>\n",
       "<tr>\n",
       "   <td>No. Observations:</td>         <td>200</td>         <td>Log-Likelihood:</td>    <td>-519.05</td> \n",
       "</tr>\n",
       "<tr>\n",
       "       <td>Df Model:</td>              <td>1</td>           <td>F-statistic:</td>       <td>312.1</td>  \n",
       "</tr>\n",
       "<tr>\n",
       "     <td>Df Residuals:</td>           <td>198</td>       <td>Prob (F-statistic):</td> <td>1.47e-42</td> \n",
       "</tr>\n",
       "<tr>\n",
       "      <td>R-squared:</td>            <td>0.612</td>            <td>Scale:</td>         <td>10.619</td>  \n",
       "</tr>\n",
       "</table>\n",
       "<table class=\"simpletable\">\n",
       "<tr>\n",
       "    <td></td>     <th>Coef.</th> <th>Std.Err.</th>    <th>t</th>     <th>P>|t|</th> <th>[0.025</th> <th>0.975]</th>\n",
       "</tr>\n",
       "<tr>\n",
       "  <th>const</th> <td>7.0326</td>  <td>0.4578</td>  <td>15.3603</td> <td>0.0000</td> <td>6.1297</td> <td>7.9355</td>\n",
       "</tr>\n",
       "<tr>\n",
       "  <th>TV</th>    <td>0.0475</td>  <td>0.0027</td>  <td>17.6676</td> <td>0.0000</td> <td>0.0422</td> <td>0.0528</td>\n",
       "</tr>\n",
       "</table>\n",
       "<table class=\"simpletable\">\n",
       "<tr>\n",
       "     <td>Omnibus:</td>     <td>0.531</td>  <td>Durbin-Watson:</td>   <td>1.935</td>\n",
       "</tr>\n",
       "<tr>\n",
       "  <td>Prob(Omnibus):</td>  <td>0.767</td> <td>Jarque-Bera (JB):</td> <td>0.669</td>\n",
       "</tr>\n",
       "<tr>\n",
       "       <td>Skew:</td>     <td>-0.089</td>     <td>Prob(JB):</td>     <td>0.716</td>\n",
       "</tr>\n",
       "<tr>\n",
       "     <td>Kurtosis:</td>    <td>2.779</td>  <td>Condition No.:</td>    <td>338</td> \n",
       "</tr>\n",
       "</table>"
      ],
      "text/plain": [
       "<class 'statsmodels.iolib.summary2.Summary'>\n",
       "\"\"\"\n",
       "                 Results: Ordinary least squares\n",
       "==================================================================\n",
       "Model:              OLS              Adj. R-squared:     0.610    \n",
       "Dependent Variable: sales            AIC:                1042.0913\n",
       "Date:               2022-07-21 17:58 BIC:                1048.6880\n",
       "No. Observations:   200              Log-Likelihood:     -519.05  \n",
       "Df Model:           1                F-statistic:        312.1    \n",
       "Df Residuals:       198              Prob (F-statistic): 1.47e-42 \n",
       "R-squared:          0.612            Scale:              10.619   \n",
       "---------------------------------------------------------------------\n",
       "          Coef.     Std.Err.       t       P>|t|     [0.025    0.975]\n",
       "---------------------------------------------------------------------\n",
       "const     7.0326      0.4578    15.3603    0.0000    6.1297    7.9355\n",
       "TV        0.0475      0.0027    17.6676    0.0000    0.0422    0.0528\n",
       "------------------------------------------------------------------\n",
       "Omnibus:              0.531         Durbin-Watson:           1.935\n",
       "Prob(Omnibus):        0.767         Jarque-Bera (JB):        0.669\n",
       "Skew:                 -0.089        Prob(JB):                0.716\n",
       "Kurtosis:             2.779         Condition No.:           338  \n",
       "==================================================================\n",
       "\n",
       "\"\"\""
      ]
     },
     "execution_count": 6,
     "metadata": {},
     "output_type": "execute_result"
    }
   ],
   "source": [
    "slr.summary2()"
   ]
  },
  {
   "cell_type": "markdown",
   "metadata": {},
   "source": [
    "From the tables above we can deduce the following important points:\n",
    "\n",
    "* Using the equation $Y = \\beta_0 +\\beta_1X $, with X = TV, we have $\\beta_0 = 7.0326$ and $\\beta_1 = 0.0475$\n",
    "* An increment of 1,000 dollars in the TV budget corresponds to an increment of roughly 50 units in sales\n",
    "* The low p-values suggest that we can reject the null-hypothesis $H_0$\n",
    "* $R^2 = 0.612$ implies that more than half of the variability on Y (sales) can be explained by a linear regression on X (TV) \n",
    "\n",
    "Using the regression coefficients computed, we can plot our data points, the regression line, and the corresponding residuals."
   ]
  },
  {
   "cell_type": "code",
   "execution_count": 7,
   "metadata": {},
   "outputs": [
    {
     "data": {
      "image/png": "[encoded data removed]",
      "text/plain": [
       "<Figure size 432x288 with 1 Axes>"
      ]
     },
     "metadata": {},
     "output_type": "display_data"
    }
   ],
   "source": [
    "# SLR plot\n",
    "\n",
    "beta0 = slr.params[0]\n",
    "beta1 = slr.params[1]\n",
    "\n",
    "rline = [beta1 * x + beta0 for x in X] # regression line\n",
    "\n",
    "# axis arrow param\n",
    "hw = 1./30.* 40 \n",
    "hl = 1./30.* 320\n",
    "lw = 1. # axis line width\n",
    "\n",
    "# start the plot\n",
    "fig = plt.figure()\n",
    "ax = fig.add_subplot(111)\n",
    "\n",
    "# remove axis spine\n",
    "ax.spines['left'].set_color('none') \n",
    "ax.spines['bottom'].set_color('none')\n",
    "ax.spines['top'].set_color('none')\n",
    "ax.spines['right'].set_color('none')\n",
    "\n",
    "\n",
    "# add axis arrows\n",
    "ax.arrow(-10, 0, 320, 0.,  fc='#45818e', ec='#45818e', lw = lw, \n",
    "         head_width=hw, head_length=hl, overhang = 0, \n",
    "         length_includes_head= True, clip_on = False) \n",
    "ax.arrow(-10, 0, 0, 30,  fc='#45818e', ec='#45818e', lw = lw, \n",
    "         head_width=hl, head_length=hw, overhang = 0, \n",
    "         length_includes_head= True, clip_on = False) \n",
    "\n",
    "# add axis label\n",
    "ax.axes.set_xlabel('TV', fontsize=16, c='#45818e')\n",
    "# ax.xaxis.set_label_coords(0.92, -0.025)\n",
    "ax.axes.set_ylabel('sales', fontsize=16, c='#45818e')\n",
    "# ax.yaxis.set_label_coords(-0.025, 0.80)\n",
    "\n",
    "ax.xaxis.set_ticks([])\n",
    "ax.yaxis.set_ticks([])\n",
    "\n",
    "# plot points\n",
    "plt.scatter(X, Y, c=['#45818e'], s=12)\n",
    "\n",
    "# plot residual\n",
    "for i in range(len(X)):\n",
    "        lineXdata = (X[i], X[i]) # same X\n",
    "        lineYdata = (Y[i], rline[i]) # different Y\n",
    "        plt.plot(lineXdata, lineYdata, c='grey', lw=0.5)\n",
    "        \n",
    "# plot regression line\n",
    "plt.plot(X, rline, c='#741b47', lw=2)\n",
    "        \n",
    "# show plot        \n",
    "plt.xlim(-10,310)\n",
    "plt.ylim(ymin=0)\n",
    "\n",
    "plt.show()\n",
    "\n",
    "# save plot\n",
    "#plt.savefig('SLR.png', dpi=300)"
   ]
  },
  {
   "cell_type": "markdown",
   "metadata": {},
   "source": [
    "### Multiple Linear Regression"
   ]
  },
  {
   "cell_type": "markdown",
   "metadata": {},
   "source": [
    "In this part of the notebook we try to predict **sales** using **TV** and **newspapers** budget as our predictor variables."
   ]
  },
  {
   "cell_type": "code",
   "execution_count": 8,
   "metadata": {},
   "outputs": [],
   "source": [
    "# Set our predictor variables X1, X2\n",
    "# and add a constant term so the model can fit an intercept\n",
    "\n",
    "X1 = advertising['TV']\n",
    "X2 = advertising['newspaper']\n",
    "\n",
    "X = advertising[['TV', 'newspaper']]\n",
    "X_mlr = sm.add_constant(X)"
   ]
  },
  {
   "cell_type": "code",
   "execution_count": 9,
   "metadata": {},
   "outputs": [],
   "source": [
    "# Fit a MLR to our X and Y\n",
    "\n",
    "mlr = sm.OLS(Y, X_mlr).fit()"
   ]
  },
  {
   "cell_type": "markdown",
   "metadata": {},
   "source": [
    "Let's summarise our regression fit."
   ]
  },
  {
   "cell_type": "code",
   "execution_count": 10,
   "metadata": {},
   "outputs": [
    {
     "data": {
      "text/html": [
       "<table class=\"simpletable\">\n",
       "<tr>\n",
       "        <td>Model:</td>               <td>OLS</td>         <td>Adj. R-squared:</td>     <td>0.642</td>  \n",
       "</tr>\n",
       "<tr>\n",
       "  <td>Dependent Variable:</td>       <td>sales</td>             <td>AIC:</td>         <td>1025.7782</td>\n",
       "</tr>\n",
       "<tr>\n",
       "         <td>Date:</td>        <td>2022-07-21 17:58</td>        <td>BIC:</td>         <td>1035.6731</td>\n",
       "</tr>\n",
       "<tr>\n",
       "   <td>No. Observations:</td>         <td>200</td>         <td>Log-Likelihood:</td>    <td>-509.89</td> \n",
       "</tr>\n",
       "<tr>\n",
       "       <td>Df Model:</td>              <td>2</td>           <td>F-statistic:</td>       <td>179.6</td>  \n",
       "</tr>\n",
       "<tr>\n",
       "     <td>Df Residuals:</td>           <td>197</td>       <td>Prob (F-statistic):</td> <td>3.95e-45</td> \n",
       "</tr>\n",
       "<tr>\n",
       "      <td>R-squared:</td>            <td>0.646</td>            <td>Scale:</td>         <td>9.7389</td>  \n",
       "</tr>\n",
       "</table>\n",
       "<table class=\"simpletable\">\n",
       "<tr>\n",
       "      <td></td>       <th>Coef.</th> <th>Std.Err.</th>    <th>t</th>     <th>P>|t|</th> <th>[0.025</th> <th>0.975]</th>\n",
       "</tr>\n",
       "<tr>\n",
       "  <th>const</th>     <td>5.7749</td>  <td>0.5253</td>  <td>10.9928</td> <td>0.0000</td> <td>4.7389</td> <td>6.8110</td>\n",
       "</tr>\n",
       "<tr>\n",
       "  <th>TV</th>        <td>0.0469</td>  <td>0.0026</td>  <td>18.1727</td> <td>0.0000</td> <td>0.0418</td> <td>0.0520</td>\n",
       "</tr>\n",
       "<tr>\n",
       "  <th>newspaper</th> <td>0.0442</td>  <td>0.0102</td>  <td>4.3463</td>  <td>0.0000</td> <td>0.0242</td> <td>0.0643</td>\n",
       "</tr>\n",
       "</table>\n",
       "<table class=\"simpletable\">\n",
       "<tr>\n",
       "     <td>Omnibus:</td>     <td>0.658</td>  <td>Durbin-Watson:</td>   <td>1.969</td>\n",
       "</tr>\n",
       "<tr>\n",
       "  <td>Prob(Omnibus):</td>  <td>0.720</td> <td>Jarque-Bera (JB):</td> <td>0.415</td>\n",
       "</tr>\n",
       "<tr>\n",
       "       <td>Skew:</td>     <td>-0.093</td>     <td>Prob(JB):</td>     <td>0.813</td>\n",
       "</tr>\n",
       "<tr>\n",
       "     <td>Kurtosis:</td>    <td>3.122</td>  <td>Condition No.:</td>    <td>410</td> \n",
       "</tr>\n",
       "</table>"
      ],
      "text/plain": [
       "<class 'statsmodels.iolib.summary2.Summary'>\n",
       "\"\"\"\n",
       "                 Results: Ordinary least squares\n",
       "==================================================================\n",
       "Model:              OLS              Adj. R-squared:     0.642    \n",
       "Dependent Variable: sales            AIC:                1025.7782\n",
       "Date:               2022-07-21 17:58 BIC:                1035.6731\n",
       "No. Observations:   200              Log-Likelihood:     -509.89  \n",
       "Df Model:           2                F-statistic:        179.6    \n",
       "Df Residuals:       197              Prob (F-statistic): 3.95e-45 \n",
       "R-squared:          0.646            Scale:              9.7389   \n",
       "--------------------------------------------------------------------\n",
       "              Coef.    Std.Err.      t      P>|t|    [0.025   0.975]\n",
       "--------------------------------------------------------------------\n",
       "const         5.7749     0.5253   10.9928   0.0000   4.7389   6.8110\n",
       "TV            0.0469     0.0026   18.1727   0.0000   0.0418   0.0520\n",
       "newspaper     0.0442     0.0102    4.3463   0.0000   0.0242   0.0643\n",
       "------------------------------------------------------------------\n",
       "Omnibus:              0.658         Durbin-Watson:           1.969\n",
       "Prob(Omnibus):        0.720         Jarque-Bera (JB):        0.415\n",
       "Skew:                 -0.093        Prob(JB):                0.813\n",
       "Kurtosis:             3.122         Condition No.:           410  \n",
       "==================================================================\n",
       "\n",
       "\"\"\""
      ]
     },
     "execution_count": 10,
     "metadata": {},
     "output_type": "execute_result"
    }
   ],
   "source": [
    "mlr.summary2()"
   ]
  },
  {
   "cell_type": "markdown",
   "metadata": {},
   "source": [
    "From the tables above we can deduce the following important points:\n",
    "\n",
    "* Using the equation $Y = \\beta_0 +\\beta_1X_1 + \\beta_2 X_2 $, with X1 = TV and X2 = newspaper, we have $\\beta_0 = 5.7749$, $\\beta_1 = 0.0469$ and $\\beta_2 = 0.0442$.\n",
    "* The high value of F-statistic suggest that we can reject the null-hypothesis $H_0$\n",
    "* $Adj. \\, R^2 = 0.642$ implies that more than half of the variability on Y (sales) can be explained by a linear regression on X1 (TV)  and X2 (newspapers).\n",
    "\n",
    "The table above does not show RSE.\n",
    "We can compute RSE using the formula $RSE = \\sqrt{\\frac{1}{n-p-1}RSS} = \\sqrt{\\frac{1}{n-p-1}\\sum_{i-1}^n(y_i-\\widehat y_i)^2}$, where RSS is the residual sum of squares, p is the number of predictors, n is the number of responses and $y_i-\\widehat y_i$ represents the _residuals_ :"
   ]
  },
  {
   "cell_type": "code",
   "execution_count": 11,
   "metadata": {},
   "outputs": [
    {
     "name": "stdout",
     "output_type": "stream",
     "text": [
      "RSE for SLR: 3.2586563686504624\n"
     ]
    }
   ],
   "source": [
    "# RSE for slr\n",
    "# note that slr.df_resid represents n-p-1 \n",
    "\n",
    "rss_slr = (slr.resid * slr.resid).sum()\n",
    "rse_slr = np.sqrt(rss_slr / slr.df_resid)\n",
    "\n",
    "print(\"RSE for SLR:\", rse_slr)"
   ]
  },
  {
   "cell_type": "code",
   "execution_count": 12,
   "metadata": {},
   "outputs": [
    {
     "name": "stdout",
     "output_type": "stream",
     "text": [
      "RSE for MLR: 3.1207198602528856\n"
     ]
    }
   ],
   "source": [
    "# RSE for mlr\n",
    "# note that mlr.df_resid represents n-p-1 \n",
    "\n",
    "rss_mlr = (mlr.resid * mlr.resid).sum()\n",
    "rse_mlr = np.sqrt(rss_mlr / mlr.df_resid)\n",
    "\n",
    "print(\"RSE for MLR:\", rse_mlr)"
   ]
  },
  {
   "cell_type": "markdown",
   "metadata": {},
   "source": [
    "The result above implies that a model that uses both TV and newspapers budgets to predict sales is more accurate (on the sample data) than one that only uses TV as predictor."
   ]
  },
  {
   "cell_type": "markdown",
   "metadata": {},
   "source": [
    "Using the regression coefficients computed, we can plot our data points, the regression plane, and the corrisponding residuals."
   ]
  },
  {
   "cell_type": "code",
   "execution_count": 13,
   "metadata": {},
   "outputs": [],
   "source": [
    "# The class below will allow us to add arrows heads\n",
    "# See: https://gist.github.com/WetHat/1d6cd0f7309535311a539b42cccca89c\n",
    "\n",
    "from matplotlib.patches import FancyArrowPatch\n",
    "from mpl_toolkits.mplot3d.proj3d import proj_transform\n",
    "\n",
    "class Arrow3D(FancyArrowPatch):\n",
    "\n",
    "    def __init__(self, x, y, z, dx, dy, dz, *args, **kwargs):\n",
    "        super().__init__((0, 0), (0, 0), *args, **kwargs)\n",
    "        self._xyz = (x, y, z)\n",
    "        self._dxdydz = (dx, dy, dz)\n",
    "\n",
    "    def draw(self, renderer):\n",
    "        x1, y1, z1 = self._xyz\n",
    "        dx, dy, dz = self._dxdydz\n",
    "        x2, y2, z2 = (x1 + dx, y1 + dy, z1 + dz)\n",
    "\n",
    "        xs, ys, zs = proj_transform((x1, x2), (y1, y2), (z1, z2), self.axes.M)\n",
    "        self.set_positions((xs[0], ys[0]), (xs[1], ys[1]))\n",
    "        super().draw(renderer)\n",
    "        \n",
    "    def do_3d_projection(self, renderer=None):\n",
    "        x1, y1, z1 = self._xyz\n",
    "        dx, dy, dz = self._dxdydz\n",
    "        x2, y2, z2 = (x1 + dx, y1 + dy, z1 + dz)\n",
    "\n",
    "        xs, ys, zs = proj_transform((x1, x2), (y1, y2), (z1, z2), self.axes.M)\n",
    "        self.set_positions((xs[0], ys[0]), (xs[1], ys[1]))\n",
    "\n",
    "        return np.min(zs) \n",
    "    \n",
    "def _arrow3D(ax, x, y, z, dx, dy, dz, *args, **kwargs):\n",
    "    '''Add an 3d arrow to an `Axes3D` instance.'''\n",
    "\n",
    "    arrow = Arrow3D(x, y, z, dx, dy, dz, *args, **kwargs)\n",
    "    ax.add_artist(arrow)\n",
    "\n",
    "\n",
    "setattr(Axes3D, 'arrow3D', _arrow3D)"
   ]
  },
  {
   "cell_type": "code",
   "execution_count": 14,
   "metadata": {
    "scrolled": false
   },
   "outputs": [
    {
     "data": {
      "image/png": "[encoded data removed]",
      "text/plain": [
       "<Figure size 576x576 with 1 Axes>"
      ]
     },
     "metadata": {},
     "output_type": "display_data"
    }
   ],
   "source": [
    "# MLR\n",
    "\n",
    "beta0 = mlr.params[0]\n",
    "beta1 = mlr.params[1]\n",
    "beta2 = mlr.params[2]\n",
    "\n",
    "Xm1, Xm2 = np.meshgrid(X1, X2)\n",
    "\n",
    "rplane = beta1 * Xm1 + beta2 * Xm2 + beta0 # regression plane\n",
    "\n",
    "\n",
    "# axis arrow param\n",
    "hw = 1./30.* 40 \n",
    "hl = 1./30.* 320\n",
    "lw = 1. # axis line width\n",
    "\n",
    "# surface patches colours\n",
    "colors = np.empty((201,201), dtype='U50')\n",
    "for j in range(len(Y)):\n",
    "    for i in range(len(X1)):\n",
    "        colors[i,j]='#741b47'\n",
    "\n",
    "# start the plot\n",
    "fig = plt.figure(figsize=(8, 8))\n",
    "ax = fig.add_subplot(111, projection='3d')\n",
    "ax.grid(False)\n",
    "ax.view_init(10,30)\n",
    "\n",
    "\n",
    "# Y axis - sales\n",
    "ax.invert_zaxis()\n",
    "ax.zaxis.pane.fill = False\n",
    "ax.zaxis.set_rotate_label(False)\n",
    "ax.axes.set_zlabel('sales', fontsize=16, c='#45818e',rotation=90, labelpad=-12)\n",
    "ax.zaxis.set_ticks([])\n",
    "ax.w_zaxis.line.set_color('none')\n",
    "ax.arrow3D(-51, 0, -2.9, 0, 0, 31, mutation_scale=30, arrowstyle='<|-',\n",
    "           fc='#45818e',ec='#45818e', lw=1) \n",
    "\n",
    "\n",
    "# X1 axis - TV\n",
    "ax.invert_xaxis()\n",
    "ax.xaxis.pane.fill = False\n",
    "ax.xaxis.set_rotate_label(False)\n",
    "ax.axes.set_xlabel('TV', fontsize=16, c='#45818e', rotation=21, labelpad=-9, loc='right')\n",
    "ax.xaxis.set_ticks([])\n",
    "ax.w_xaxis.line.set_color('none')\n",
    "ax.arrow3D(454, 21, 45, 430, 0, -0.2, mutation_scale=30, arrowstyle='-|>',\n",
    "           fc='#45818e',ec='#45818e', lw=1) \n",
    "\n",
    "# X2 axis - newspapers\n",
    "ax.invert_yaxis()\n",
    "ax.yaxis.pane.fill = False\n",
    "ax.axes.set_ylabel('newspapers', fontsize=16, c='#45818e', labelpad=-9)\n",
    "ax.yaxis.set_ticks([])\n",
    "ax.w_yaxis.line.set_color('none')\n",
    "ax.arrow3D(0, -14, 29.7, 540, 19.5, 18, mutation_scale=30, arrowstyle='-|>',\n",
    "           fc='#45818e',ec='#45818e', lw=1) \n",
    "\n",
    "\n",
    "# Add plane\n",
    "ax.plot_surface(Xm1, Xm2, rplane, edgecolors='#741b47', \n",
    "                facecolors=colors, shade=False)\n",
    "\n",
    "\n",
    "# Add points\n",
    "ax.scatter(X1, X2, Y, c=['#45818e'], s=16, alpha=1)\n",
    "\n",
    "\n",
    "# Add residuals\n",
    "for i in range(len(X)):\n",
    "        lineX1data = (X1[i], X1[i]) # same X1\n",
    "        lineX2data = (X2[i], X2[i]) # same X2\n",
    "        lineYdata = (Y[i], rplane[i, i]) # different Y\n",
    "        plt.plot(lineX1data, lineX2data, lineYdata, c='grey', lw=0.5)\n",
    "\n",
    "#plt.show()\n",
    "\n",
    "# save plot\n",
    "# plt.savefig('MLR.png', dpi=300)"
   ]
  }
 ],
 "metadata": {
  "kernelspec": {
   "display_name": "Python 3",
   "language": "python",
   "name": "python3"
  },
  "language_info": {
   "codemirror_mode": {
    "name": "ipython",
    "version": 3
   },
   "file_extension": ".py",
   "mimetype": "text/x-python",
   "name": "python",
   "nbconvert_exporter": "python",
   "pygments_lexer": "ipython3",
   "version": "3.7.4"
  }
 },
 "nbformat": 4,
 "nbformat_minor": 2
}
